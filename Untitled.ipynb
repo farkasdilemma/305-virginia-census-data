{
 "cells": [
  {
   "cell_type": "code",
   "execution_count": 1,
   "id": "e58585c3-51c5-427f-b2af-2ea949aa0c26",
   "metadata": {},
   "outputs": [],
   "source": [
    "import pandas as pd\n",
    "\n",
    "from urllib.request import urlopen\n",
    "import json\n",
    "with urlopen('https://raw.githubusercontent.com/plotly/datasets/master/geojson-counties-fips.json') as response:\n",
    "    counties = json.load(response)"
   ]
  },
  {
   "cell_type": "code",
   "execution_count": 3,
   "id": "32466b40-10eb-449e-b1a4-875e74319cb2",
   "metadata": {},
   "outputs": [],
   "source": [
    "tabtitle = 'California Counties'\n",
    "varlist=['TotalPop', 'Men', 'Women', 'Hispanic',\n",
    "       'White', 'Black', 'Native', 'Asian', 'Pacific', 'VotingAgeCitizen',\n",
    "       'Income', 'IncomeErr', 'IncomePerCap', 'IncomePerCapErr', 'Poverty',\n",
    "       'ChildPoverty', 'Professional', 'Service', 'Office', 'Construction',\n",
    "       'Production', 'Drive', 'Carpool', 'Transit', 'Walk', 'OtherTransp',\n",
    "       'WorkAtHome', 'MeanCommute', 'Employed', 'PrivateWork', 'PublicWork',\n",
    "       'SelfEmployed', 'FamilyWork', 'Unemployment', 'RUCC_2013']"
   ]
  },
  {
   "cell_type": "code",
   "execution_count": 13,
   "id": "578864ca-fd2e-4657-94d5-ff00ad686034",
   "metadata": {},
   "outputs": [
    {
     "data": {
      "text/plain": [
       "dict_keys(['type', 'features'])"
      ]
     },
     "execution_count": 13,
     "metadata": {},
     "output_type": "execute_result"
    }
   ],
   "source": [
    "counties.keys()"
   ]
  },
  {
   "cell_type": "code",
   "execution_count": 11,
   "id": "6d92912a-d9df-41f9-a095-c361c818e932",
   "metadata": {},
   "outputs": [],
   "source": [
    "df=pd.read_pickle('resources/ca-stats.pkl')"
   ]
  },
  {
   "cell_type": "code",
   "execution_count": 12,
   "id": "2ae73df3-25e6-4079-9831-fe9e537284ce",
   "metadata": {},
   "outputs": [
    {
     "data": {
      "text/plain": [
       "Index(['CountyId', 'State_x', 'County_x', 'TotalPop', 'Men', 'Women',\n",
       "       'Hispanic', 'White', 'Black', 'Native', 'Asian', 'Pacific',\n",
       "       'VotingAgeCitizen', 'Income', 'IncomeErr', 'IncomePerCap',\n",
       "       'IncomePerCapErr', 'Poverty', 'ChildPoverty', 'Professional', 'Service',\n",
       "       'Office', 'Construction', 'Production', 'Drive', 'Carpool', 'Transit',\n",
       "       'Walk', 'OtherTransp', 'WorkAtHome', 'MeanCommute', 'Employed',\n",
       "       'PrivateWork', 'PublicWork', 'SelfEmployed', 'FamilyWork',\n",
       "       'Unemployment', 'FIPS', 'State_y', 'County_Name', 'Population_2010',\n",
       "       'RUCC_2013', 'Description', 'County_y', 'metro'],\n",
       "      dtype='object')"
      ]
     },
     "execution_count": 12,
     "metadata": {},
     "output_type": "execute_result"
    }
   ],
   "source": [
    "df.columns"
   ]
  },
  {
   "cell_type": "code",
   "execution_count": 7,
   "id": "390f3be6-aff5-435e-9e41-17d1afb3d148",
   "metadata": {},
   "outputs": [
    {
     "data": {
      "text/plain": [
       "0       Anderson\n",
       "1       Anderson\n",
       "2       Anderson\n",
       "3       Anderson\n",
       "4       Anderson\n",
       "          ...   \n",
       "5260      Zapata\n",
       "5261      Zavala\n",
       "5262      Zavala\n",
       "5263      Zavala\n",
       "5264      Zavala\n",
       "Name: County, Length: 5265, dtype: object"
      ]
     },
     "execution_count": 10,
     "metadata": {},
     "output_type": "execute_result"
    }
   ],
   "source": [
    "df['County']"
   ]
  },
  {
   "cell_type": "code",
   "execution_count": null,
   "id": "e544c8d7-e44b-43f6-bb4b-b63162b838fb",
   "metadata": {},
   "outputs": [],
   "source": []
  }
 ],
 "metadata": {
  "kernelspec": {
   "display_name": "default:Python",
   "language": "python",
   "name": "conda-env-default-py"
  },
  "language_info": {
   "codemirror_mode": {
    "name": "ipython",
    "version": 3
   },
   "file_extension": ".py",
   "mimetype": "text/x-python",
   "name": "python",
   "nbconvert_exporter": "python",
   "pygments_lexer": "ipython3",
   "version": "3.9.7"
  }
 },
 "nbformat": 4,
 "nbformat_minor": 5
}
