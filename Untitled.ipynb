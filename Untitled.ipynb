{
 "cells": [
  {
   "cell_type": "code",
   "execution_count": 1,
   "id": "e58585c3-51c5-427f-b2af-2ea949aa0c26",
   "metadata": {},
   "outputs": [],
   "source": [
    "import pandas as pd\n",
    "\n",
    "from urllib.request import urlopen\n",
    "import json\n",
    "with urlopen('https://raw.githubusercontent.com/plotly/datasets/master/geojson-counties-fips.json') as response:\n",
    "    counties = json.load(response)"
   ]
  },
  {
   "cell_type": "code",
   "execution_count": 3,
   "id": "32466b40-10eb-449e-b1a4-875e74319cb2",
   "metadata": {},
   "outputs": [],
   "source": [
    "tabtitle = 'California Counties'\n",
    "varlist=['TotalPop', 'Men', 'Women', 'Hispanic',\n",
    "       'White', 'Black', 'Native', 'Asian', 'Pacific', 'VotingAgeCitizen',\n",
    "       'Income', 'IncomeErr', 'IncomePerCap', 'IncomePerCapErr', 'Poverty',\n",
    "       'ChildPoverty', 'Professional', 'Service', 'Office', 'Construction',\n",
    "       'Production', 'Drive', 'Carpool', 'Transit', 'Walk', 'OtherTransp',\n",
    "       'WorkAtHome', 'MeanCommute', 'Employed', 'PrivateWork', 'PublicWork',\n",
    "       'SelfEmployed', 'FamilyWork', 'Unemployment', 'RUCC_2013']"
   ]
  },
  {
   "cell_type": "code",
   "execution_count": 13,
   "id": "578864ca-fd2e-4657-94d5-ff00ad686034",
   "metadata": {},
   "outputs": [
    {
     "data": {
      "text/plain": [
       "dict_keys(['type', 'features'])"
      ]
     },
     "execution_count": 13,
     "metadata": {},
     "output_type": "execute_result"
    }
   ],
   "source": [
    "counties.keys()"
   ]
  },
  {
   "cell_type": "code",
   "execution_count": 2,
   "id": "6d92912a-d9df-41f9-a095-c361c818e932",
   "metadata": {},
   "outputs": [],
   "source": [
    "df=pd.read_pickle('resources/ca-stats.pkl')"
   ]
  },
  {
   "cell_type": "code",
   "execution_count": 3,
   "id": "2ae73df3-25e6-4079-9831-fe9e537284ce",
   "metadata": {},
   "outputs": [
    {
     "data": {
      "text/plain": [
       "Index(['CountyId', 'State_x', 'County_x', 'TotalPop', 'Men', 'Women',\n",
       "       'Hispanic', 'White', 'Black', 'Native', 'Asian', 'Pacific',\n",
       "       'VotingAgeCitizen', 'Income', 'IncomeErr', 'IncomePerCap',\n",
       "       'IncomePerCapErr', 'Poverty', 'ChildPoverty', 'Professional', 'Service',\n",
       "       'Office', 'Construction', 'Production', 'Drive', 'Carpool', 'Transit',\n",
       "       'Walk', 'OtherTransp', 'WorkAtHome', 'MeanCommute', 'Employed',\n",
       "       'PrivateWork', 'PublicWork', 'SelfEmployed', 'FamilyWork',\n",
       "       'Unemployment', 'FIPS', 'State_y', 'County_Name', 'Population_2010',\n",
       "       'RUCC_2013', 'Description', 'County_y', 'metro'],\n",
       "      dtype='object')"
      ]
     },
     "execution_count": 3,
     "metadata": {},
     "output_type": "execute_result"
    }
   ],
   "source": [
    "df.columns"
   ]
  },
  {
   "cell_type": "code",
   "execution_count": 6,
   "id": "390f3be6-aff5-435e-9e41-17d1afb3d148",
   "metadata": {},
   "outputs": [
    {
     "data": {
      "text/plain": [
       "0     6001\n",
       "1     6003\n",
       "2     6005\n",
       "3     6007\n",
       "4     6009\n",
       "5     6011\n",
       "6     6013\n",
       "7     6015\n",
       "8     6017\n",
       "9     6019\n",
       "10    6021\n",
       "11    6023\n",
       "12    6025\n",
       "13    6027\n",
       "14    6029\n",
       "15    6031\n",
       "16    6033\n",
       "17    6035\n",
       "18    6037\n",
       "19    6039\n",
       "20    6041\n",
       "21    6043\n",
       "22    6045\n",
       "23    6047\n",
       "24    6049\n",
       "25    6051\n",
       "26    6053\n",
       "27    6055\n",
       "28    6057\n",
       "29    6059\n",
       "30    6061\n",
       "31    6063\n",
       "32    6065\n",
       "33    6067\n",
       "34    6069\n",
       "35    6071\n",
       "36    6073\n",
       "37    6075\n",
       "38    6077\n",
       "39    6079\n",
       "40    6081\n",
       "41    6083\n",
       "42    6085\n",
       "43    6087\n",
       "44    6089\n",
       "45    6091\n",
       "46    6093\n",
       "47    6095\n",
       "48    6097\n",
       "49    6099\n",
       "50    6101\n",
       "51    6103\n",
       "52    6105\n",
       "53    6107\n",
       "54    6109\n",
       "55    6111\n",
       "56    6113\n",
       "57    6115\n",
       "Name: FIPS, dtype: int64"
      ]
     },
     "execution_count": 6,
     "metadata": {},
     "output_type": "execute_result"
    }
   ],
   "source": [
    "df['FIPS']"
   ]
  },
  {
   "cell_type": "code",
   "execution_count": null,
   "id": "e544c8d7-e44b-43f6-bb4b-b63162b838fb",
   "metadata": {},
   "outputs": [],
   "source": []
  }
 ],
 "metadata": {
  "kernelspec": {
   "display_name": "default:Python",
   "language": "python",
   "name": "conda-env-default-py"
  },
  "language_info": {
   "codemirror_mode": {
    "name": "ipython",
    "version": 3
   },
   "file_extension": ".py",
   "mimetype": "text/x-python",
   "name": "python",
   "nbconvert_exporter": "python",
   "pygments_lexer": "ipython3",
   "version": "3.9.7"
  }
 },
 "nbformat": 4,
 "nbformat_minor": 5
}
